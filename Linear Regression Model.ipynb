{
 "cells": [
  {
   "cell_type": "markdown",
   "metadata": {},
   "source": [
    "# Linear Regression Machine Learning Project for House Price Prediction"
   ]
  },
  {
   "cell_type": "markdown",
   "metadata": {},
   "source": [
    "### Import Libraries"
   ]
  },
  {
   "cell_type": "code",
   "execution_count": 2,
   "metadata": {},
   "outputs": [],
   "source": [
    "import pandas as pd\n",
    "import numpy as np\n",
    "import seaborn as sns\n",
    "import matplotlib.pyplot as plt\n",
    "\n",
    "%matplotlib inline"
   ]
  },
  {
   "cell_type": "markdown",
   "metadata": {},
   "source": [
    "### Importing Data and Checking out."
   ]
  },
  {
   "cell_type": "code",
   "execution_count": 3,
   "metadata": {},
   "outputs": [],
   "source": [
    "HouseDF = pd.read_csv('USA_Housing.csv'\n",
    "                     )"
   ]
  },
  {
   "cell_type": "code",
   "execution_count": 4,
   "metadata": {
    "scrolled": true
   },
   "outputs": [
    {
     "data": {
      "text/html": [
       "<div>\n",
       "<style scoped>\n",
       "    .dataframe tbody tr th:only-of-type {\n",
       "        vertical-align: middle;\n",
       "    }\n",
       "\n",
       "    .dataframe tbody tr th {\n",
       "        vertical-align: top;\n",
       "    }\n",
       "\n",
       "    .dataframe thead th {\n",
       "        text-align: right;\n",
       "    }\n",
       "</style>\n",
       "<table border=\"1\" class=\"dataframe\">\n",
       "  <thead>\n",
       "    <tr style=\"text-align: right;\">\n",
       "      <th></th>\n",
       "      <th>AvgAreaIncome</th>\n",
       "      <th>AvgAreaHouseAge</th>\n",
       "      <th>AvgAreaNumberofRooms</th>\n",
       "      <th>AvgAreaNumberofBedrooms</th>\n",
       "      <th>AreaPopulation</th>\n",
       "      <th>Price</th>\n",
       "      <th>Address</th>\n",
       "    </tr>\n",
       "  </thead>\n",
       "  <tbody>\n",
       "    <tr>\n",
       "      <th>0</th>\n",
       "      <td>79545.45857</td>\n",
       "      <td>5.682861</td>\n",
       "      <td>7.009188</td>\n",
       "      <td>4.09</td>\n",
       "      <td>23086.80050</td>\n",
       "      <td>1.059034e+06</td>\n",
       "      <td>208 Michael Ferry Apt. 674\\nLaurabury, NE 3701...</td>\n",
       "    </tr>\n",
       "    <tr>\n",
       "      <th>1</th>\n",
       "      <td>79248.64245</td>\n",
       "      <td>6.002900</td>\n",
       "      <td>6.730821</td>\n",
       "      <td>3.09</td>\n",
       "      <td>40173.07217</td>\n",
       "      <td>1.505891e+06</td>\n",
       "      <td>188 Johnson Views Suite 079\\nLake Kathleen, CA...</td>\n",
       "    </tr>\n",
       "    <tr>\n",
       "      <th>2</th>\n",
       "      <td>61287.06718</td>\n",
       "      <td>5.865890</td>\n",
       "      <td>8.512727</td>\n",
       "      <td>5.13</td>\n",
       "      <td>36882.15940</td>\n",
       "      <td>1.058988e+06</td>\n",
       "      <td>9127 Elizabeth Stravenue\\nDanieltown, WI 06482...</td>\n",
       "    </tr>\n",
       "    <tr>\n",
       "      <th>3</th>\n",
       "      <td>63345.24005</td>\n",
       "      <td>7.188236</td>\n",
       "      <td>5.586729</td>\n",
       "      <td>3.26</td>\n",
       "      <td>34310.24283</td>\n",
       "      <td>1.260617e+06</td>\n",
       "      <td>USS Barnett\\nFPO AP 44820</td>\n",
       "    </tr>\n",
       "    <tr>\n",
       "      <th>4</th>\n",
       "      <td>59982.19723</td>\n",
       "      <td>5.040555</td>\n",
       "      <td>7.839388</td>\n",
       "      <td>4.23</td>\n",
       "      <td>26354.10947</td>\n",
       "      <td>6.309435e+05</td>\n",
       "      <td>USNS Raymond\\nFPO AE 09386</td>\n",
       "    </tr>\n",
       "  </tbody>\n",
       "</table>\n",
       "</div>"
      ],
      "text/plain": [
       "   AvgAreaIncome  AvgAreaHouseAge  AvgAreaNumberofRooms  \\\n",
       "0    79545.45857         5.682861              7.009188   \n",
       "1    79248.64245         6.002900              6.730821   \n",
       "2    61287.06718         5.865890              8.512727   \n",
       "3    63345.24005         7.188236              5.586729   \n",
       "4    59982.19723         5.040555              7.839388   \n",
       "\n",
       "   AvgAreaNumberofBedrooms  AreaPopulation         Price  \\\n",
       "0                     4.09     23086.80050  1.059034e+06   \n",
       "1                     3.09     40173.07217  1.505891e+06   \n",
       "2                     5.13     36882.15940  1.058988e+06   \n",
       "3                     3.26     34310.24283  1.260617e+06   \n",
       "4                     4.23     26354.10947  6.309435e+05   \n",
       "\n",
       "                                             Address  \n",
       "0  208 Michael Ferry Apt. 674\\nLaurabury, NE 3701...  \n",
       "1  188 Johnson Views Suite 079\\nLake Kathleen, CA...  \n",
       "2  9127 Elizabeth Stravenue\\nDanieltown, WI 06482...  \n",
       "3                          USS Barnett\\nFPO AP 44820  \n",
       "4                         USNS Raymond\\nFPO AE 09386  "
      ]
     },
     "execution_count": 4,
     "metadata": {},
     "output_type": "execute_result"
    }
   ],
   "source": [
    "HouseDF.head()"
   ]
  },
  {
   "cell_type": "code",
   "execution_count": 5,
   "metadata": {
    "scrolled": true
   },
   "outputs": [
    {
     "name": "stdout",
     "output_type": "stream",
     "text": [
      "<class 'pandas.core.frame.DataFrame'>\n",
      "RangeIndex: 5000 entries, 0 to 4999\n",
      "Data columns (total 7 columns):\n",
      " #   Column                   Non-Null Count  Dtype  \n",
      "---  ------                   --------------  -----  \n",
      " 0   AvgAreaIncome            4993 non-null   float64\n",
      " 1   AvgAreaHouseAge          4996 non-null   float64\n",
      " 2   AvgAreaNumberofRooms     5000 non-null   float64\n",
      " 3   AvgAreaNumberofBedrooms  4997 non-null   float64\n",
      " 4   AreaPopulation           4999 non-null   float64\n",
      " 5   Price                    4999 non-null   float64\n",
      " 6   Address                  5000 non-null   object \n",
      "dtypes: float64(6), object(1)\n",
      "memory usage: 254.0+ KB\n"
     ]
    }
   ],
   "source": [
    "HouseDF.info()"
   ]
  },
  {
   "cell_type": "code",
   "execution_count": 6,
   "metadata": {
    "scrolled": true
   },
   "outputs": [
    {
     "data": {
      "text/html": [
       "<div>\n",
       "<style scoped>\n",
       "    .dataframe tbody tr th:only-of-type {\n",
       "        vertical-align: middle;\n",
       "    }\n",
       "\n",
       "    .dataframe tbody tr th {\n",
       "        vertical-align: top;\n",
       "    }\n",
       "\n",
       "    .dataframe thead th {\n",
       "        text-align: right;\n",
       "    }\n",
       "</style>\n",
       "<table border=\"1\" class=\"dataframe\">\n",
       "  <thead>\n",
       "    <tr style=\"text-align: right;\">\n",
       "      <th></th>\n",
       "      <th>AvgAreaIncome</th>\n",
       "      <th>AvgAreaHouseAge</th>\n",
       "      <th>AvgAreaNumberofRooms</th>\n",
       "      <th>AvgAreaNumberofBedrooms</th>\n",
       "      <th>AreaPopulation</th>\n",
       "      <th>Price</th>\n",
       "    </tr>\n",
       "  </thead>\n",
       "  <tbody>\n",
       "    <tr>\n",
       "      <th>count</th>\n",
       "      <td>4993.000000</td>\n",
       "      <td>4996.000000</td>\n",
       "      <td>5000.000000</td>\n",
       "      <td>4997.000000</td>\n",
       "      <td>4999.000000</td>\n",
       "      <td>4.999000e+03</td>\n",
       "    </tr>\n",
       "    <tr>\n",
       "      <th>mean</th>\n",
       "      <td>68581.257058</td>\n",
       "      <td>5.976887</td>\n",
       "      <td>6.987792</td>\n",
       "      <td>3.981333</td>\n",
       "      <td>36158.381607</td>\n",
       "      <td>1.232094e+06</td>\n",
       "    </tr>\n",
       "    <tr>\n",
       "      <th>std</th>\n",
       "      <td>10660.259560</td>\n",
       "      <td>0.991287</td>\n",
       "      <td>1.005833</td>\n",
       "      <td>1.233818</td>\n",
       "      <td>9920.000174</td>\n",
       "      <td>3.531496e+05</td>\n",
       "    </tr>\n",
       "    <tr>\n",
       "      <th>min</th>\n",
       "      <td>17796.631190</td>\n",
       "      <td>2.644304</td>\n",
       "      <td>3.236194</td>\n",
       "      <td>2.000000</td>\n",
       "      <td>172.610686</td>\n",
       "      <td>1.593866e+04</td>\n",
       "    </tr>\n",
       "    <tr>\n",
       "      <th>25%</th>\n",
       "      <td>61481.205210</td>\n",
       "      <td>5.322283</td>\n",
       "      <td>6.299250</td>\n",
       "      <td>3.140000</td>\n",
       "      <td>29403.789820</td>\n",
       "      <td>9.975356e+05</td>\n",
       "    </tr>\n",
       "    <tr>\n",
       "      <th>50%</th>\n",
       "      <td>68791.791690</td>\n",
       "      <td>5.970429</td>\n",
       "      <td>7.002902</td>\n",
       "      <td>4.050000</td>\n",
       "      <td>36198.440990</td>\n",
       "      <td>1.232872e+06</td>\n",
       "    </tr>\n",
       "    <tr>\n",
       "      <th>75%</th>\n",
       "      <td>75786.349240</td>\n",
       "      <td>6.650376</td>\n",
       "      <td>7.665871</td>\n",
       "      <td>4.490000</td>\n",
       "      <td>42852.508760</td>\n",
       "      <td>1.471389e+06</td>\n",
       "    </tr>\n",
       "    <tr>\n",
       "      <th>max</th>\n",
       "      <td>107701.748400</td>\n",
       "      <td>9.519088</td>\n",
       "      <td>10.759588</td>\n",
       "      <td>6.500000</td>\n",
       "      <td>69621.713380</td>\n",
       "      <td>2.469066e+06</td>\n",
       "    </tr>\n",
       "  </tbody>\n",
       "</table>\n",
       "</div>"
      ],
      "text/plain": [
       "       AvgAreaIncome  AvgAreaHouseAge  AvgAreaNumberofRooms  \\\n",
       "count    4993.000000      4996.000000           5000.000000   \n",
       "mean    68581.257058         5.976887              6.987792   \n",
       "std     10660.259560         0.991287              1.005833   \n",
       "min     17796.631190         2.644304              3.236194   \n",
       "25%     61481.205210         5.322283              6.299250   \n",
       "50%     68791.791690         5.970429              7.002902   \n",
       "75%     75786.349240         6.650376              7.665871   \n",
       "max    107701.748400         9.519088             10.759588   \n",
       "\n",
       "       AvgAreaNumberofBedrooms  AreaPopulation         Price  \n",
       "count              4997.000000     4999.000000  4.999000e+03  \n",
       "mean                  3.981333    36158.381607  1.232094e+06  \n",
       "std                   1.233818     9920.000174  3.531496e+05  \n",
       "min                   2.000000      172.610686  1.593866e+04  \n",
       "25%                   3.140000    29403.789820  9.975356e+05  \n",
       "50%                   4.050000    36198.440990  1.232872e+06  \n",
       "75%                   4.490000    42852.508760  1.471389e+06  \n",
       "max                   6.500000    69621.713380  2.469066e+06  "
      ]
     },
     "execution_count": 6,
     "metadata": {},
     "output_type": "execute_result"
    }
   ],
   "source": [
    "HouseDF.describe()"
   ]
  },
  {
   "cell_type": "code",
   "execution_count": 7,
   "metadata": {
    "scrolled": true
   },
   "outputs": [
    {
     "data": {
      "text/plain": [
       "Index(['AvgAreaIncome', 'AvgAreaHouseAge', 'AvgAreaNumberofRooms',\n",
       "       'AvgAreaNumberofBedrooms', 'AreaPopulation', 'Price', 'Address'],\n",
       "      dtype='object')"
      ]
     },
     "execution_count": 7,
     "metadata": {},
     "output_type": "execute_result"
    }
   ],
   "source": [
    "HouseDF.columns"
   ]
  },
  {
   "cell_type": "code",
   "execution_count": 8,
   "metadata": {},
   "outputs": [],
   "source": [
    "HouseDF = HouseDF.drop_duplicates()\n"
   ]
  },
  {
   "cell_type": "code",
   "execution_count": 9,
   "metadata": {},
   "outputs": [
    {
     "name": "stdout",
     "output_type": "stream",
     "text": [
      "Number of missing values in each header:\n",
      "AvgAreaIncome              7\n",
      "AvgAreaHouseAge            4\n",
      "AvgAreaNumberofRooms       0\n",
      "AvgAreaNumberofBedrooms    3\n",
      "AreaPopulation             1\n",
      "Price                      1\n",
      "Address                    0\n",
      "dtype: int64\n"
     ]
    }
   ],
   "source": [
    "print(\"Number of missing values in each header:\")\n",
    "print(HouseDF.isnull().sum())"
   ]
  },
  {
   "cell_type": "code",
   "execution_count": 10,
   "metadata": {},
   "outputs": [
    {
     "name": "stdout",
     "output_type": "stream",
     "text": [
      "AvgAreaIncome              0\n",
      "AvgAreaHouseAge            4\n",
      "AvgAreaNumberofRooms       0\n",
      "AvgAreaNumberofBedrooms    3\n",
      "AreaPopulation             1\n",
      "Price                      1\n",
      "Address                    0\n",
      "dtype: int64\n"
     ]
    }
   ],
   "source": [
    "HouseDF.AvgAreaIncome.fillna(HouseDF.AvgAreaIncome.mean(), inplace = True)\n",
    "print(HouseDF.isnull().sum())"
   ]
  },
  {
   "cell_type": "code",
   "execution_count": 11,
   "metadata": {},
   "outputs": [
    {
     "name": "stdout",
     "output_type": "stream",
     "text": [
      "AvgAreaIncome              0\n",
      "AvgAreaHouseAge            0\n",
      "AvgAreaNumberofRooms       0\n",
      "AvgAreaNumberofBedrooms    3\n",
      "AreaPopulation             1\n",
      "Price                      1\n",
      "Address                    0\n",
      "dtype: int64\n"
     ]
    }
   ],
   "source": [
    "HouseDF.AvgAreaHouseAge.fillna(HouseDF.AvgAreaHouseAge.mean(), inplace = True)\n",
    "HouseDF.AvgAreaNumberofBedrooms.fillna(HouseDF.AvgAreaNumberofBedrooms.mode()[0], inplace = True)\n",
    "HouseDF.AreaPopulation.fillna(HouseDF.AreaPopulation.mean(), inplace = True)\n",
    "HouseDF.Price.fillna(HouseDF.Price.mean(), inplace = True)\n",
    "print(HouseDF.isnull().sum())"
   ]
  },
  {
   "cell_type": "code",
   "execution_count": 12,
   "metadata": {},
   "outputs": [
    {
     "name": "stdout",
     "output_type": "stream",
     "text": [
      "AvgAreaIncome              0\n",
      "AvgAreaHouseAge            0\n",
      "AvgAreaNumberofRooms       0\n",
      "AvgAreaNumberofBedrooms    0\n",
      "AreaPopulation             1\n",
      "Price                      1\n",
      "Address                    0\n",
      "dtype: int64\n"
     ]
    }
   ],
   "source": [
    "HouseDF.AvgAreaNumberofBedrooms.fillna(HouseDF.AvgAreaNumberofBedrooms.mode()[0], inplace = True)\n",
    "print(HouseDF.isnull().sum())"
   ]
  },
  {
   "cell_type": "code",
   "execution_count": 13,
   "metadata": {},
   "outputs": [
    {
     "name": "stdout",
     "output_type": "stream",
     "text": [
      "AvgAreaIncome              0\n",
      "AvgAreaHouseAge            0\n",
      "AvgAreaNumberofRooms       0\n",
      "AvgAreaNumberofBedrooms    0\n",
      "AreaPopulation             0\n",
      "Price                      1\n",
      "Address                    0\n",
      "dtype: int64\n"
     ]
    }
   ],
   "source": [
    "HouseDF.AreaPopulation.fillna(HouseDF.AreaPopulation.mean(), inplace = True)\n",
    "print(HouseDF.isnull().sum())"
   ]
  },
  {
   "cell_type": "code",
   "execution_count": 14,
   "metadata": {},
   "outputs": [
    {
     "name": "stdout",
     "output_type": "stream",
     "text": [
      "AvgAreaIncome              0\n",
      "AvgAreaHouseAge            0\n",
      "AvgAreaNumberofRooms       0\n",
      "AvgAreaNumberofBedrooms    0\n",
      "AreaPopulation             0\n",
      "Price                      0\n",
      "Address                    0\n",
      "dtype: int64\n"
     ]
    }
   ],
   "source": [
    "HouseDF.AvgAreaHouseAge.fillna(HouseDF.AvgAreaHouseAge.mean(), inplace = True)\n",
    "HouseDF.AvgAreaNumberofBedrooms.fillna(HouseDF.AvgAreaNumberofBedrooms.mode()[0], inplace = True)\n",
    "HouseDF.AreaPopulation.fillna(HouseDF.AreaPopulation.mean(), inplace = True)\n",
    "HouseDF.Price.fillna(HouseDF.Price.mean(), inplace = True)\n",
    "print(HouseDF.isnull().sum())"
   ]
  },
  {
   "cell_type": "code",
   "execution_count": 17,
   "metadata": {},
   "outputs": [
    {
     "name": "stdout",
     "output_type": "stream",
     "text": [
      "      AvgAreaIncome  AvgAreaHouseAge  AvgAreaNumberofRooms  \\\n",
      "0       79545.45857         5.682861              7.009188   \n",
      "1       79248.64245         6.002900              6.730821   \n",
      "2       61287.06718         5.865890              8.512727   \n",
      "3       63345.24005         7.188236              5.586729   \n",
      "4       59982.19723         5.040555              7.839388   \n",
      "...             ...              ...                   ...   \n",
      "4995    60567.94414         7.830362              6.137356   \n",
      "4996    78491.27543         6.999135              6.576763   \n",
      "4997    63390.68689         7.250591              4.805081   \n",
      "4998    68001.33124         5.534388              7.130144   \n",
      "4999    65510.58180         5.992305              6.792336   \n",
      "\n",
      "      AvgAreaNumberofBedrooms  AreaPopulation         Price  \\\n",
      "0                        4.09     23086.80050  1.059034e+06   \n",
      "1                        3.09     40173.07217  1.505891e+06   \n",
      "2                        5.13     36882.15940  1.058988e+06   \n",
      "3                        3.26     34310.24283  1.260617e+06   \n",
      "4                        4.23     26354.10947  6.309435e+05   \n",
      "...                       ...             ...           ...   \n",
      "4995                     3.46     22837.36103  1.060194e+06   \n",
      "4996                     4.02     25616.11549  1.482618e+06   \n",
      "4997                     2.13     33266.14549  1.030730e+06   \n",
      "4998                     5.44     42625.62016  1.198657e+06   \n",
      "4999                     4.07     46501.28380  1.298950e+06   \n",
      "\n",
      "                                                Address  \n",
      "0     208 Michael Ferry Apt. 674\\nLaurabury, NE 3701...  \n",
      "1     188 Johnson Views Suite 079\\nLake Kathleen, CA...  \n",
      "2     9127 Elizabeth Stravenue\\nDanieltown, WI 06482...  \n",
      "3                             USS Barnett\\nFPO AP 44820  \n",
      "4                            USNS Raymond\\nFPO AE 09386  \n",
      "...                                                 ...  \n",
      "4995                   USNS Williams\\nFPO AP 30153-7653  \n",
      "4996              PSC 9258, Box 8489\\nAPO AA 42991-3352  \n",
      "4997  4215 Tracy Garden Suite 076\\nJoshualand, VA 01...  \n",
      "4998                          USS Wallace\\nFPO AE 73316  \n",
      "4999  37778 George Ridges Apt. 509\\nEast Holly, NV 2...  \n",
      "\n",
      "[5000 rows x 7 columns]\n"
     ]
    }
   ],
   "source": [
    "print(HouseDF)\n"
   ]
  },
  {
   "cell_type": "markdown",
   "metadata": {},
   "source": [
    "## Exploratory Data Analysis for House Price Prediction"
   ]
  },
  {
   "cell_type": "code",
   "execution_count": 18,
   "metadata": {},
   "outputs": [
    {
     "data": {
      "text/plain": [
       "<matplotlib.axes._subplots.AxesSubplot at 0x9d3e838>"
      ]
     },
     "execution_count": 18,
     "metadata": {},
     "output_type": "execute_result"
    },
    {
     "data": {
      "image/png": "[encoded data removed]",
      "text/plain": [
       "<Figure size 432x288 with 1 Axes>"
      ]
     },
     "metadata": {
      "needs_background": "light"
     },
     "output_type": "display_data"
    }
   ],
   "source": [
    "sns.distplot(HouseDF['Price'])"
   ]
  },
  {
   "cell_type": "markdown",
   "metadata": {},
   "source": [
    "## Training a Linear Regression Model\n",
    "\n",
    "### X and y List"
   ]
  },
  {
   "cell_type": "code",
   "execution_count": 19,
   "metadata": {},
   "outputs": [],
   "source": [
    "X = HouseDF[['AvgAreaIncome', 'AvgAreaHouseAge', 'AvgAreaNumberofRooms',\n",
    "               'AvgAreaNumberofBedrooms', 'AreaPopulation']]\n",
    "\n",
    "y = HouseDF['Price']"
   ]
  },
  {
   "cell_type": "markdown",
   "metadata": {},
   "source": [
    "### Split Data into Train, Test"
   ]
  },
  {
   "cell_type": "code",
   "execution_count": 20,
   "metadata": {},
   "outputs": [],
   "source": [
    "from sklearn.model_selection import train_test_split"
   ]
  },
  {
   "cell_type": "code",
   "execution_count": 21,
   "metadata": {},
   "outputs": [],
   "source": [
    "X_train, X_test, y_train, y_test = train_test_split(X, y, test_size=0.4, random_state=101)"
   ]
  },
  {
   "cell_type": "markdown",
   "metadata": {},
   "source": [
    "## Creating and Training the LinearRegression Model"
   ]
  },
  {
   "cell_type": "code",
   "execution_count": 22,
   "metadata": {},
   "outputs": [],
   "source": [
    "from sklearn.linear_model import LinearRegression"
   ]
  },
  {
   "cell_type": "code",
   "execution_count": 23,
   "metadata": {},
   "outputs": [],
   "source": [
    "lm = LinearRegression()"
   ]
  },
  {
   "cell_type": "code",
   "execution_count": 24,
   "metadata": {},
   "outputs": [
    {
     "data": {
      "text/plain": [
       "LinearRegression()"
      ]
     },
     "execution_count": 24,
     "metadata": {},
     "output_type": "execute_result"
    }
   ],
   "source": [
    "lm.fit(X_train,y_train)"
   ]
  },
  {
   "cell_type": "markdown",
   "metadata": {},
   "source": [
    "## LinearRegression Model Evaluation"
   ]
  },
  {
   "cell_type": "code",
   "execution_count": 25,
   "metadata": {},
   "outputs": [
    {
     "name": "stdout",
     "output_type": "stream",
     "text": [
      "-2640197.7485070126\n"
     ]
    }
   ],
   "source": [
    "print(lm.intercept_)"
   ]
  },
  {
   "cell_type": "code",
   "execution_count": 26,
   "metadata": {},
   "outputs": [
    {
     "data": {
      "text/html": [
       "<div>\n",
       "<style scoped>\n",
       "    .dataframe tbody tr th:only-of-type {\n",
       "        vertical-align: middle;\n",
       "    }\n",
       "\n",
       "    .dataframe tbody tr th {\n",
       "        vertical-align: top;\n",
       "    }\n",
       "\n",
       "    .dataframe thead th {\n",
       "        text-align: right;\n",
       "    }\n",
       "</style>\n",
       "<table border=\"1\" class=\"dataframe\">\n",
       "  <thead>\n",
       "    <tr style=\"text-align: right;\">\n",
       "      <th></th>\n",
       "      <th>Coefficient</th>\n",
       "    </tr>\n",
       "  </thead>\n",
       "  <tbody>\n",
       "    <tr>\n",
       "      <th>AvgAreaIncome</th>\n",
       "      <td>21.535528</td>\n",
       "    </tr>\n",
       "    <tr>\n",
       "      <th>AvgAreaHouseAge</th>\n",
       "      <td>164729.910675</td>\n",
       "    </tr>\n",
       "    <tr>\n",
       "      <th>AvgAreaNumberofRooms</th>\n",
       "      <td>122519.226240</td>\n",
       "    </tr>\n",
       "    <tr>\n",
       "      <th>AvgAreaNumberofBedrooms</th>\n",
       "      <td>2259.377365</td>\n",
       "    </tr>\n",
       "    <tr>\n",
       "      <th>AreaPopulation</th>\n",
       "      <td>15.136727</td>\n",
       "    </tr>\n",
       "  </tbody>\n",
       "</table>\n",
       "</div>"
      ],
      "text/plain": [
       "                           Coefficient\n",
       "AvgAreaIncome                21.535528\n",
       "AvgAreaHouseAge          164729.910675\n",
       "AvgAreaNumberofRooms     122519.226240\n",
       "AvgAreaNumberofBedrooms    2259.377365\n",
       "AreaPopulation               15.136727"
      ]
     },
     "execution_count": 26,
     "metadata": {},
     "output_type": "execute_result"
    }
   ],
   "source": [
    "coeff_df = pd.DataFrame(lm.coef_,X.columns,columns=['Coefficient'])\n",
    "coeff_df"
   ]
  },
  {
   "cell_type": "markdown",
   "metadata": {},
   "source": [
    "## Predictions from our Linear Regression Model"
   ]
  },
  {
   "cell_type": "code",
   "execution_count": 27,
   "metadata": {},
   "outputs": [],
   "source": [
    "predictions = lm.predict(X_test)"
   ]
  },
  {
   "cell_type": "code",
   "execution_count": 28,
   "metadata": {},
   "outputs": [
    {
     "data": {
      "text/plain": [
       "<matplotlib.collections.PathCollection at 0xad4d5b0>"
      ]
     },
     "execution_count": 28,
     "metadata": {},
     "output_type": "execute_result"
    },
    {
     "data": {
      "image/png": "[encoded data removed]",
      "text/plain": [
       "<Figure size 432x288 with 1 Axes>"
      ]
     },
     "metadata": {
      "needs_background": "light"
     },
     "output_type": "display_data"
    }
   ],
   "source": [
    "plt.scatter(y_test,predictions)"
   ]
  },
  {
   "cell_type": "markdown",
   "metadata": {},
   "source": [
    "In the above scatter plot, we see data is in line shape, which means our model has done good predictions."
   ]
  },
  {
   "cell_type": "code",
   "execution_count": 29,
   "metadata": {},
   "outputs": [
    {
     "data": {
      "image/png": "[encoded data removed]",
      "text/plain": [
       "<Figure size 432x288 with 1 Axes>"
      ]
     },
     "metadata": {
      "needs_background": "light"
     },
     "output_type": "display_data"
    }
   ],
   "source": [
    "sns.distplot((y_test-predictions),bins=50);"
   ]
  },
  {
   "cell_type": "markdown",
   "metadata": {},
   "source": [
    "In the above histogram plot, we see data is in bell shape (Normally Distributed), which means our model has done good predictions."
   ]
  },
  {
   "cell_type": "markdown",
   "metadata": {},
   "source": [
    "## Regression Evaluation Metrics"
   ]
  },
  {
   "cell_type": "code",
   "execution_count": 59,
   "metadata": {},
   "outputs": [],
   "source": [
    "from sklearn import metrics"
   ]
  },
  {
   "cell_type": "code",
   "execution_count": 60,
   "metadata": {},
   "outputs": [
    {
     "name": "stdout",
     "output_type": "stream",
     "text": [
      "MAE: 82612.0604625824\n",
      "MSE: 10552164034.478632\n",
      "RMSE: 102723.72673573828\n"
     ]
    }
   ],
   "source": [
    "print('MAE:', metrics.mean_absolute_error(y_test, predictions))\n",
    "print('MSE:', metrics.mean_squared_error(y_test, predictions))\n",
    "print('RMSE:', np.sqrt(metrics.mean_squared_error(y_test, predictions)))"
   ]
  },
  {
   "cell_type": "code",
   "execution_count": 32,
   "metadata": {},
   "outputs": [
    {
     "name": "stdout",
     "output_type": "stream",
     "text": [
      "      AvgAreaIncome  AvgAreaHouseAge  AvgAreaNumberofRooms  \\\n",
      "1718    66774.99582         5.717143              7.795215   \n",
      "2511    62184.53937         4.925758              7.427689   \n",
      "345     73643.05730         6.766853              8.337085   \n",
      "2521    61909.04144         6.228343              6.593138   \n",
      "54      72942.70506         4.786222              7.319886   \n",
      "...             ...              ...                   ...   \n",
      "1776    65173.05044         7.679469              6.602618   \n",
      "4269    42969.65939         6.295501              7.885507   \n",
      "1661    48735.92451         5.543730              6.091906   \n",
      "2410    65081.58405         5.433570              9.212518   \n",
      "2302    65969.70704         7.325976              8.020966   \n",
      "\n",
      "      AvgAreaNumberofBedrooms  AreaPopulation  \n",
      "1718                     4.32     36788.98033  \n",
      "2511                     6.22     26008.30912  \n",
      "345                      3.34     43152.13958  \n",
      "2521                     4.29     28953.92538  \n",
      "54                       6.41     24377.90905  \n",
      "...                       ...             ...  \n",
      "1776                     4.23     44125.54078  \n",
      "4269                     4.38     29594.08986  \n",
      "1661                     2.43     19682.34729  \n",
      "2410                     5.14     37594.49346  \n",
      "2302                     4.09     61772.75681  \n",
      "\n",
      "[2000 rows x 5 columns]\n"
     ]
    }
   ],
   "source": []
  },
  {
   "cell_type": "code",
   "execution_count": null,
   "metadata": {},
   "outputs": [],
   "source": []
  }
 ],
 "metadata": {
  "kernelspec": {
   "display_name": "Python 3",
   "language": "python",
   "name": "python3"
  },
  "language_info": {
   "codemirror_mode": {
    "name": "ipython",
    "version": 3
   },
   "file_extension": ".py",
   "mimetype": "text/x-python",
   "name": "python",
   "nbconvert_exporter": "python",
   "pygments_lexer": "ipython3",
   "version": "3.8.3"
  }
 },
 "nbformat": 4,
 "nbformat_minor": 2
}
